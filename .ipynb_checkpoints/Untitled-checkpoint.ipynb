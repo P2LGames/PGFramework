{
 "cells": [
  {
   "cell_type": "code",
   "execution_count": 11,
   "metadata": {},
   "outputs": [],
   "source": [
    "import numpy as np"
   ]
  },
  {
   "cell_type": "code",
   "execution_count": 12,
   "metadata": {
    "collapsed": true
   },
   "outputs": [],
   "source": [
    "def truncate(f, n):\n",
    "    '''Truncates/pads a float f to n decimal places without rounding'''\n",
    "    s = '{}'.format(f)\n",
    "    if 'e' in s or 'E' in s:\n",
    "        return '{0:.{1}f}'.format(f, n)\n",
    "    i, p, d = s.partition('.')\n",
    "    return '.'.join([i, (d+'0'*n)[:n]])"
   ]
  },
  {
   "cell_type": "code",
   "execution_count": 49,
   "metadata": {},
   "outputs": [
    {
     "name": "stdout",
     "output_type": "stream",
     "text": [
      "X: 0.2 Y: 7\n",
      "Step: 1  X: 0.4 Y: 7.0045714285714284\n",
      "Step: 2  X: 0.6000000000000001 Y: 7.010279001468429\n",
      "Step: 3  X: 0.8 Y: 7.0182589023879345\n",
      "Step: 4  X: 1.0 Y: 7.028497096328542\n",
      "Step: 5  X: 1.2 Y: 7.040976043107486\n"
     ]
    }
   ],
   "source": [
    "def fprime(x, y):\n",
    "    value = x ** 2 / y\n",
    "#     print(value)\n",
    "    \n",
    "    return value\n",
    "    \n",
    "stepCount = 5\n",
    "h = 0.2\n",
    "\n",
    "x_n = 0\n",
    "y_start = 7\n",
    "y_n = y_start\n",
    "print(\"X:\", x_n, \"Y:\", y_n)\n",
    "\n",
    "for step in range(stepCount):\n",
    "\n",
    "    y_n = y_start + h * fprime(x_n, y_n)\n",
    "    print(\"Step:\", step + 1, \" X:\", x_n, \"Y:\", y_n)\n",
    "    x_n += h"
   ]
  },
  {
   "cell_type": "code",
   "execution_count": null,
   "metadata": {
    "collapsed": true
   },
   "outputs": [],
   "source": []
  },
  {
   "cell_type": "code",
   "execution_count": null,
   "metadata": {
    "collapsed": true
   },
   "outputs": [],
   "source": []
  }
 ],
 "metadata": {
  "kernelspec": {
   "display_name": "Python 3",
   "language": "python",
   "name": "python3"
  },
  "language_info": {
   "codemirror_mode": {
    "name": "ipython",
    "version": 3
   },
   "file_extension": ".py",
   "mimetype": "text/x-python",
   "name": "python",
   "nbconvert_exporter": "python",
   "pygments_lexer": "ipython3",
   "version": "3.6.3"
  }
 },
 "nbformat": 4,
 "nbformat_minor": 2
}
